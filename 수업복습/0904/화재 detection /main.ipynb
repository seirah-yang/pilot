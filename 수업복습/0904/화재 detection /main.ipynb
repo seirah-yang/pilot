from roboflow import Roboflow

rf=Roboflow(api_key="Y8AiE0Db0LkhTrFFcwRk")
project=rf.workspace("mask-detection-joxzn").project('fireonplace-rqt54')
version=project.version(3)
dataset=version.download("yolov12")
