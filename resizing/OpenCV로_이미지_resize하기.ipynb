{
  "nbformat": 4,
  "nbformat_minor": 0,
  "metadata": {
    "colab": {
      "provenance": []
    },
    "kernelspec": {
      "name": "python3",
      "display_name": "Python 3"
    },
    "language_info": {
      "name": "python"
    }
  },
  "cells": [
    {
      "cell_type": "markdown",
      "source": [
        "Resize란 이미지의 크기를 조정하는 것\n",
        "의료영상은 촬영조건, 촬영 장비 등의 차이로 인해 X-ray여도 영상마다 크기가 모두 다르기 때문에 딥러닝 등의 기계 학습 방법을 사용하기 위해서는 일정한 크기의 입력 데이터로 조정이 필요하다. OpenCV라이브러리에서는 원하는 크기로 영상을 변경할 수 있도록 cv2.resize()함수를 제공한다.\n",
        "\n",
        "cv2.resize() 함수의 서식과 파라미터:\n",
        "\n",
        "cv2.resize(src, dsize, fx, fy, interpolation)"
      ],
      "metadata": {
        "id": "PD6o_LjqUMsk"
      }
    },
    {
      "cell_type": "code",
      "source": [
        "# 이미지 resize\n",
        "import cv2"
      ],
      "metadata": {
        "id": "Qkz6JQbxUcev"
      },
      "execution_count": 1,
      "outputs": []
    },
    {
      "cell_type": "markdown",
      "source": [
        "많이 사용되는 보간법은 사이즈를 줄일 때는 cv2.INTER_AREA, 사이즈를 크게할 때는 cv2.INTER_CUBIC, cv2.INTER_LINEAR을 보통 사용함"
      ],
      "metadata": {
        "id": "euWptr0PYBO-"
      }
    },
    {
      "cell_type": "code",
      "source": [
        "# 이미지 로드\n",
        "src = cv2.imread('/content/NORMAL-28501-0001.jpeg')\n",
        "\n",
        "#이미지를 resize할 배율\n",
        "scale_percent = 50\n",
        "\n",
        "#원본 이미지의 너비와 높이의 50%를 계산\n",
        "width = int(src.shape[1] * scale_percent / 100)\n",
        "height = int(src.shape[0] * scale_percent / 100)\n",
        "\n",
        "dsize = (width, height)\n",
        "\n",
        "output = cv2.resize(src, dsize)\n",
        "\n",
        "cv2.imwrite('/content/NORMAL-28501-0001_50_resize.jpeg', output)  #높이를 원래 크기의 50%로, 너비를 원래 크기의 50%로 줄임"
      ],
      "metadata": {
        "colab": {
          "base_uri": "https://localhost:8080/"
        },
        "id": "S2Y43XOGUPdN",
        "outputId": "170aea85-1c40-4b5a-ecd5-5c0ab6c9e0e4"
      },
      "execution_count": 6,
      "outputs": [
        {
          "output_type": "execute_result",
          "data": {
            "text/plain": [
              "True"
            ]
          },
          "metadata": {},
          "execution_count": 6
        }
      ]
    },
    {
      "cell_type": "code",
      "source": [
        "# 이미지 90도 회전\n",
        "import cv2\n",
        "\n",
        "# 이미지 로드\n",
        "img = cv2.imread('/content/NORMAL-28501-0001.jpeg')\n",
        "\n",
        "# 이미지를 시계 방향으로 90도 회전\n",
        "rotated_img = cv2.rotate(img, cv2.ROTATE_90_CLOCKWISE)\n",
        "\n",
        "# 회전시킨 이미지 저장\n",
        "cv2.imwrite('/content/NORMAL-28501-0001_90_rotate.jpg', rotated_img)"
      ],
      "metadata": {
        "id": "lsPI1BKwWPnX",
        "colab": {
          "base_uri": "https://localhost:8080/"
        },
        "outputId": "daa0aa33-42cc-4e2c-b87d-87a283c5e61b"
      },
      "execution_count": 7,
      "outputs": [
        {
          "output_type": "execute_result",
          "data": {
            "text/plain": [
              "True"
            ]
          },
          "metadata": {},
          "execution_count": 7
        }
      ]
    },
    {
      "cell_type": "code",
      "source": [
        "# 이미지 180도 회전\n",
        "# 이미지를 시계 방향으로 180도 회전\n",
        "rotated_img = cv2.rotate(img, cv2.ROTATE_180)\n",
        "\n",
        "# 회전시킨 이미지 저장\n",
        "cv2.imwrite('/content/NORMAL-28501-0001_180_rotate.jpg', rotated_img)\n"
      ],
      "metadata": {
        "id": "x1BrIwaNVRNl",
        "colab": {
          "base_uri": "https://localhost:8080/"
        },
        "outputId": "bf0e8444-6bc7-4e22-d66a-03f9ef08a60d"
      },
      "execution_count": 8,
      "outputs": [
        {
          "output_type": "execute_result",
          "data": {
            "text/plain": [
              "True"
            ]
          },
          "metadata": {},
          "execution_count": 8
        }
      ]
    },
    {
      "cell_type": "code",
      "source": [
        "# 이미지 270도 회전\n",
        "# 영상을 시계 반대 방향으로 90도 회전(시계방향으로 270도)\n",
        "rotated_img = cv2.rotate(img, cv2.ROTATE_90_COUNTERCLOCKWISE)\n",
        "\n",
        "# 회전시킨 이미지 저장\n",
        "cv2.imwrite('/content/NORMAL-28501-0001270_rotate.jpg', rotated_img)"
      ],
      "metadata": {
        "id": "YBT3YfLmViq6",
        "colab": {
          "base_uri": "https://localhost:8080/"
        },
        "outputId": "cd91a295-1038-4f90-c3ea-7e66def781a7"
      },
      "execution_count": 9,
      "outputs": [
        {
          "output_type": "execute_result",
          "data": {
            "text/plain": [
              "True"
            ]
          },
          "metadata": {},
          "execution_count": 9
        }
      ]
    },
    {
      "cell_type": "code",
      "source": [],
      "metadata": {
        "id": "TA-9YnmwksJ8"
      },
      "execution_count": null,
      "outputs": []
    }
  ]
}