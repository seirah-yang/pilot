{
 "cells": [
  {
   "cell_type": "markdown",
   "id": "5a640cbc",
   "metadata": {},
   "source": [
    "https://dacon.io/competitions/official/236590/codeshare/12889?page=1&dtype=recent\n",
    "\n",
    "[배경] \n",
    "- 현장에서 가동되는 일반적인 장비들은 온도·압력·진동·전류 등 여러 센서로 상태를 상시 모니터링한다. \n",
    "- 작은 이상 패턴을 제때 구분하지 못하면 불필요한 정지, 품질 저하, 안전 리스크가 증가 \n",
    "- 장비 센서 데이터를 기반으로 장비의 정상/비정상 작동 유형을 분류하는 모델을 개발\n",
    "\n",
    "[목표]\n",
    ": 센서 간 관계와 미세한 변화를 포착해 신속한 점검·보전을 돕는 현장 활용형 진단기를 설계\n",
    "\n",
    "[주제]\n",
    ": 이상신호 감지 기반 비정상작동 진단 분류\n",
    "\n",
    "[설명]\n",
    "- 핵심 장비는 [온도·압력·진동·전류 등 다종 센서]를 통해 상태 기록\n",
    "- 도메인 의미가 차단된 블랙박스 환경에서 \"비식별화된 데이터(X_01,X_02 등)\"만으로 정상/비정상 유형을 분류하는 모델\n",
    "\n",
    "해당 내용에 관한 해설:  \n",
    "        https://dacon.io/edu/527"
   ]
  },
  {
   "cell_type": "code",
   "execution_count": 28,
   "id": "1efab214",
   "metadata": {},
   "outputs": [],
   "source": [
    "# 장비센서 데이터를 기반으로 장비의 정상/비정상 작동유형을 분류 하는 모델 개발 \n",
    "\n",
    "# 기본\n",
    "import os\n",
    "import numpy as np\n",
    "import pandas as pd\n",
    "\n",
    "# 시각화\n",
    "import matplotlib.pyplot as plt\n",
    "import seaborn as sns\n",
    "\n",
    "# 전처리/평가\n",
    "from sklearn.model_selection import train_test_split, StratifiedKFold\n",
    "from sklearn.preprocessing import StandardScaler\n",
    "from sklearn.metrics import (accuracy_score, f1_score, roc_auc_score,precision_recall_fscore_support, confusion_matrix, classification_report)\n",
    "# ML /DL\n",
    "from sklearn.ensemble import RandomForestClassifier\n",
    "from tensorflow.keras.models import Sequential\n",
    "from tensorflow.keras.layers import Conv1D, BatchNormalization, MaxPooling1D, Flatten, Dense, Dropout\n",
    "from tensorflow.keras.callbacks import EarlyStopping, ModelCheckpoint"
   ]
  },
  {
   "cell_type": "code",
   "execution_count": 29,
   "id": "ea79cdd2",
   "metadata": {},
   "outputs": [],
   "source": [
    "test = pd.read_csv('/home/alpaco/sryang/DACON/test.csv')\n",
    "train = pd.read_csv('/home/alpaco/sryang/DACON/train.csv')"
   ]
  },
  {
   "cell_type": "code",
   "execution_count": 30,
   "id": "753e20cb",
   "metadata": {},
   "outputs": [
    {
     "name": "stdout",
     "output_type": "stream",
     "text": [
      "<class 'pandas.core.frame.DataFrame'>\n",
      "RangeIndex: 15004 entries, 0 to 15003\n",
      "Data columns (total 53 columns):\n",
      " #   Column  Non-Null Count  Dtype  \n",
      "---  ------  --------------  -----  \n",
      " 0   ID      15004 non-null  object \n",
      " 1   X_01    15004 non-null  float64\n",
      " 2   X_02    15004 non-null  float64\n",
      " 3   X_03    15004 non-null  float64\n",
      " 4   X_04    15004 non-null  float64\n",
      " 5   X_05    15004 non-null  float64\n",
      " 6   X_06    15004 non-null  float64\n",
      " 7   X_07    15004 non-null  float64\n",
      " 8   X_08    15004 non-null  float64\n",
      " 9   X_09    15004 non-null  float64\n",
      " 10  X_10    15004 non-null  float64\n",
      " 11  X_11    15004 non-null  float64\n",
      " 12  X_12    15004 non-null  float64\n",
      " 13  X_13    15004 non-null  float64\n",
      " 14  X_14    15004 non-null  float64\n",
      " 15  X_15    15004 non-null  float64\n",
      " 16  X_16    15004 non-null  float64\n",
      " 17  X_17    15004 non-null  float64\n",
      " 18  X_18    15004 non-null  float64\n",
      " 19  X_19    15004 non-null  float64\n",
      " 20  X_20    15004 non-null  float64\n",
      " 21  X_21    15004 non-null  float64\n",
      " 22  X_22    15004 non-null  float64\n",
      " 23  X_23    15004 non-null  float64\n",
      " 24  X_24    15004 non-null  float64\n",
      " 25  X_25    15004 non-null  float64\n",
      " 26  X_26    15004 non-null  float64\n",
      " 27  X_27    15004 non-null  float64\n",
      " 28  X_28    15004 non-null  float64\n",
      " 29  X_29    15004 non-null  float64\n",
      " 30  X_30    15004 non-null  float64\n",
      " 31  X_31    15004 non-null  float64\n",
      " 32  X_32    15004 non-null  float64\n",
      " 33  X_33    15004 non-null  float64\n",
      " 34  X_34    15004 non-null  float64\n",
      " 35  X_35    15004 non-null  float64\n",
      " 36  X_36    15004 non-null  float64\n",
      " 37  X_37    15004 non-null  float64\n",
      " 38  X_38    15004 non-null  float64\n",
      " 39  X_39    15004 non-null  float64\n",
      " 40  X_40    15004 non-null  float64\n",
      " 41  X_41    15004 non-null  float64\n",
      " 42  X_42    15004 non-null  float64\n",
      " 43  X_43    15004 non-null  float64\n",
      " 44  X_44    15004 non-null  float64\n",
      " 45  X_45    15004 non-null  float64\n",
      " 46  X_46    15004 non-null  float64\n",
      " 47  X_47    15004 non-null  float64\n",
      " 48  X_48    15004 non-null  float64\n",
      " 49  X_49    15004 non-null  float64\n",
      " 50  X_50    15004 non-null  float64\n",
      " 51  X_51    15004 non-null  float64\n",
      " 52  X_52    15004 non-null  float64\n",
      "dtypes: float64(52), object(1)\n",
      "memory usage: 6.1+ MB\n"
     ]
    },
    {
     "data": {
      "text/plain": [
       "(           ID   X_01      X_02      X_03      X_04      X_05      X_06  \\\n",
       " 0  TEST_00000  0.027  0.248234  0.521686  0.507419  0.391153  0.583795   \n",
       " 1  TEST_00001  0.021  0.237060  0.537939  0.545298  0.359449  0.657034   \n",
       " 2  TEST_00002  0.020  0.244556  0.541783  0.511458  0.380849  0.673393   \n",
       " 3  TEST_00003  0.011  0.241627  0.600781  0.514907  0.374210  0.618073   \n",
       " 4  TEST_00004  0.019  0.251017  0.504123  0.512723  0.378423  0.614282   \n",
       " \n",
       "        X_07      X_08      X_09  ...      X_43      X_44      X_45      X_46  \\\n",
       " 0  0.663798  0.501200  0.571666  ...  0.260703  0.428539  0.583749  0.746367   \n",
       " 1  0.647725  0.501224  0.586882  ...  0.253675  0.374611  0.657051  0.768609   \n",
       " 2  0.649568  0.485117  0.565430  ...  0.262817  0.442951  0.673385  0.750324   \n",
       " 3  0.668874  0.494310  0.584442  ...  0.262562  0.428725  0.618055  0.748490   \n",
       " 4  0.644375  0.456430  0.553999  ...  0.263064  0.442768  0.614234  0.751743   \n",
       " \n",
       "        X_47      X_48      X_49      X_50      X_51      X_52  \n",
       " 0  0.389120  0.524662  0.532655  0.600385  0.327990  0.577894  \n",
       " 1  0.373918  0.497134  0.492148  0.612316  0.306123  0.640685  \n",
       " 2  0.372285  0.566680  0.527558  0.592817  0.319520  0.573768  \n",
       " 3  0.372270  0.408100  0.532064  0.601000  0.313188  0.566182  \n",
       " 4  0.387120  0.578171  0.517872  0.604191  0.318684  0.600983  \n",
       " \n",
       " [5 rows x 53 columns],\n",
       " None)"
      ]
     },
     "execution_count": 30,
     "metadata": {},
     "output_type": "execute_result"
    }
   ],
   "source": [
    "df_test = test\n",
    "df_test.head(), df_test.info()"
   ]
  },
  {
   "cell_type": "code",
   "execution_count": 31,
   "id": "dae1b55c",
   "metadata": {},
   "outputs": [
    {
     "name": "stdout",
     "output_type": "stream",
     "text": [
      "<class 'pandas.core.frame.DataFrame'>\n",
      "RangeIndex: 21693 entries, 0 to 21692\n",
      "Data columns (total 54 columns):\n",
      " #   Column  Non-Null Count  Dtype  \n",
      "---  ------  --------------  -----  \n",
      " 0   ID      21693 non-null  object \n",
      " 1   X_01    21693 non-null  float64\n",
      " 2   X_02    21693 non-null  float64\n",
      " 3   X_03    21693 non-null  float64\n",
      " 4   X_04    21693 non-null  float64\n",
      " 5   X_05    21693 non-null  float64\n",
      " 6   X_06    21693 non-null  float64\n",
      " 7   X_07    21693 non-null  float64\n",
      " 8   X_08    21693 non-null  float64\n",
      " 9   X_09    21693 non-null  float64\n",
      " 10  X_10    21693 non-null  float64\n",
      " 11  X_11    21693 non-null  float64\n",
      " 12  X_12    21693 non-null  float64\n",
      " 13  X_13    21693 non-null  float64\n",
      " 14  X_14    21693 non-null  float64\n",
      " 15  X_15    21693 non-null  float64\n",
      " 16  X_16    21693 non-null  float64\n",
      " 17  X_17    21693 non-null  float64\n",
      " 18  X_18    21693 non-null  float64\n",
      " 19  X_19    21693 non-null  float64\n",
      " 20  X_20    21693 non-null  float64\n",
      " 21  X_21    21693 non-null  float64\n",
      " 22  X_22    21693 non-null  float64\n",
      " 23  X_23    21693 non-null  float64\n",
      " 24  X_24    21693 non-null  float64\n",
      " 25  X_25    21693 non-null  float64\n",
      " 26  X_26    21693 non-null  float64\n",
      " 27  X_27    21693 non-null  float64\n",
      " 28  X_28    21693 non-null  float64\n",
      " 29  X_29    21693 non-null  float64\n",
      " 30  X_30    21693 non-null  float64\n",
      " 31  X_31    21693 non-null  float64\n",
      " 32  X_32    21693 non-null  float64\n",
      " 33  X_33    21693 non-null  float64\n",
      " 34  X_34    21693 non-null  float64\n",
      " 35  X_35    21693 non-null  float64\n",
      " 36  X_36    21693 non-null  float64\n",
      " 37  X_37    21693 non-null  float64\n",
      " 38  X_38    21693 non-null  float64\n",
      " 39  X_39    21693 non-null  float64\n",
      " 40  X_40    21693 non-null  float64\n",
      " 41  X_41    21693 non-null  float64\n",
      " 42  X_42    21693 non-null  float64\n",
      " 43  X_43    21693 non-null  float64\n",
      " 44  X_44    21693 non-null  float64\n",
      " 45  X_45    21693 non-null  float64\n",
      " 46  X_46    21693 non-null  float64\n",
      " 47  X_47    21693 non-null  float64\n",
      " 48  X_48    21693 non-null  float64\n",
      " 49  X_49    21693 non-null  float64\n",
      " 50  X_50    21693 non-null  float64\n",
      " 51  X_51    21693 non-null  float64\n",
      " 52  X_52    21693 non-null  float64\n",
      " 53  target  21693 non-null  int64  \n",
      "dtypes: float64(52), int64(1), object(1)\n",
      "memory usage: 8.9+ MB\n"
     ]
    },
    {
     "data": {
      "text/plain": [
       "(            ID   X_01      X_02      X_03      X_04      X_05      X_06  \\\n",
       " 0  TRAIN_00000  0.016  0.242994  0.538536  0.522295  0.374494  0.555348   \n",
       " 1  TRAIN_00001  0.019  0.240380  0.517223  0.538976  0.371149  0.693825   \n",
       " 2  TRAIN_00002  0.012  0.248946  0.547109  0.466713  0.415830  0.656887   \n",
       " 3  TRAIN_00003  0.013  0.245877  0.527870  0.515534  0.379199  0.594391   \n",
       " 4  TRAIN_00004  0.024  0.239237  0.566087  0.514384  0.378451  0.610543   \n",
       " \n",
       "        X_07      X_08      X_09  ...      X_44      X_45      X_46      X_47  \\\n",
       " 0  0.639091  0.494800  0.584233  ...  0.435885  0.555359  0.751714  0.376801   \n",
       " 1  0.663667  0.530931  0.577200  ...  0.479859  0.693855  0.748955  0.356118   \n",
       " 2  0.681782  0.580773  0.527069  ...  0.416115  0.656884  0.750059  0.417200   \n",
       " 3  0.663816  0.494931  0.581796  ...  0.436761  0.594364  0.746297  0.374659   \n",
       " 4  0.644811  0.508567  0.593614  ...  0.422407  0.610526  0.749565  0.372742   \n",
       " \n",
       "        X_48      X_49      X_50      X_51      X_52  target  \n",
       " 0  0.466993  0.527585  0.598101  0.312160  0.582797       0  \n",
       " 1  0.613461  0.508069  0.569814  0.313351  0.570513      20  \n",
       " 2  0.525393  0.551947  0.639860  0.342627  0.573139       1  \n",
       " 3  0.694290  0.532705  0.581142  0.316417  0.562656      19  \n",
       " 4  0.565549  0.535573  0.580484  0.314982  0.591692      15  \n",
       " \n",
       " [5 rows x 54 columns],\n",
       " None)"
      ]
     },
     "execution_count": 31,
     "metadata": {},
     "output_type": "execute_result"
    }
   ],
   "source": [
    "df_train = train\n",
    "df_train.head(), df_train.info()"
   ]
  },
  {
   "cell_type": "code",
   "execution_count": 32,
   "id": "fee45d58",
   "metadata": {},
   "outputs": [
    {
     "data": {
      "text/plain": [
       "Index(['ID', 'X_01', 'X_02', 'X_03', 'X_04', 'X_05', 'X_06', 'X_07', 'X_08',\n",
       "       'X_09', 'X_10', 'X_11', 'X_12', 'X_13', 'X_14', 'X_15', 'X_16', 'X_17',\n",
       "       'X_18', 'X_19', 'X_20', 'X_21', 'X_22', 'X_23', 'X_24', 'X_25', 'X_26',\n",
       "       'X_27', 'X_28', 'X_29', 'X_30', 'X_31', 'X_32', 'X_33', 'X_34', 'X_35',\n",
       "       'X_36', 'X_37', 'X_38', 'X_39', 'X_40', 'X_41', 'X_42', 'X_43', 'X_44',\n",
       "       'X_45', 'X_46', 'X_47', 'X_48', 'X_49', 'X_50', 'X_51', 'X_52'],\n",
       "      dtype='object')"
      ]
     },
     "execution_count": 32,
     "metadata": {},
     "output_type": "execute_result"
    }
   ],
   "source": [
    "df_test.columns"
   ]
  },
  {
   "cell_type": "code",
   "execution_count": 33,
   "id": "c3a3467f",
   "metadata": {},
   "outputs": [
    {
     "data": {
      "text/plain": [
       "Index(['ID', 'X_01', 'X_02', 'X_03', 'X_04', 'X_05', 'X_06', 'X_07', 'X_08',\n",
       "       'X_09', 'X_10', 'X_11', 'X_12', 'X_13', 'X_14', 'X_15', 'X_16', 'X_17',\n",
       "       'X_18', 'X_19', 'X_20', 'X_21', 'X_22', 'X_23', 'X_24', 'X_25', 'X_26',\n",
       "       'X_27', 'X_28', 'X_29', 'X_30', 'X_31', 'X_32', 'X_33', 'X_34', 'X_35',\n",
       "       'X_36', 'X_37', 'X_38', 'X_39', 'X_40', 'X_41', 'X_42', 'X_43', 'X_44',\n",
       "       'X_45', 'X_46', 'X_47', 'X_48', 'X_49', 'X_50', 'X_51', 'X_52',\n",
       "       'target'],\n",
       "      dtype='object')"
      ]
     },
     "execution_count": 33,
     "metadata": {},
     "output_type": "execute_result"
    }
   ],
   "source": [
    "df_train.columns"
   ]
  },
  {
   "cell_type": "code",
   "execution_count": 34,
   "id": "7f024f92",
   "metadata": {},
   "outputs": [
    {
     "data": {
      "text/plain": [
       "(0         0\n",
       " 1        20\n",
       " 2         1\n",
       " 3        19\n",
       " 4        15\n",
       "          ..\n",
       " 21688    17\n",
       " 21689     0\n",
       " 21690     5\n",
       " 21691     3\n",
       " 21692    17\n",
       " Name: target, Length: 21693, dtype: int64,\n",
       " target\n",
       " 0     1033\n",
       " 20    1033\n",
       " 1     1033\n",
       " 19    1033\n",
       " 15    1033\n",
       " 8     1033\n",
       " 16    1033\n",
       " 12    1033\n",
       " 14    1033\n",
       " 18    1033\n",
       " 3     1033\n",
       " 4     1033\n",
       " 5     1033\n",
       " 11    1033\n",
       " 13    1033\n",
       " 6     1033\n",
       " 10    1033\n",
       " 2     1033\n",
       " 9     1033\n",
       " 17    1033\n",
       " 7     1033\n",
       " Name: count, dtype: int64)"
      ]
     },
     "execution_count": 34,
     "metadata": {},
     "output_type": "execute_result"
    }
   ],
   "source": [
    "df_train['target'], df_train['target'].value_counts()"
   ]
  },
  {
   "cell_type": "code",
   "execution_count": 35,
   "id": "67b6420e",
   "metadata": {},
   "outputs": [
    {
     "name": "stdout",
     "output_type": "stream",
     "text": [
      "[0 0 0 0 0 0 0 0 0 0 0 0 0 0 0 0 0 0 0 0 0 0 0 0 0 0 0 0 0 0 0 0 0 0 0 0 0\n",
      " 0 0 0 0 0 0 0 0 0 0 0 0 0 0 0 0 0]\n",
      "[0 0 0 0 0 0 0 0 0 0 0 0 0 0 0 0 0 0 0 0 0 0 0 0 0 0 0 0 0 0 0 0 0 0 0 0 0\n",
      " 0 0 0 0 0 0 0 0 0 0 0 0 0 0 0 0]\n",
      "0\n",
      "0\n"
     ]
    }
   ],
   "source": [
    "print(df_train.isnull().sum().to_numpy())\n",
    "print(df_test.isnull().sum().to_numpy())\n",
    "\n",
    "print(df_train.duplicated().sum())\n",
    "print(df_test.duplicated().sum())"
   ]
  },
  {
   "cell_type": "code",
   "execution_count": 36,
   "id": "5ffefc0f",
   "metadata": {},
   "outputs": [
    {
     "data": {
      "text/plain": [
       "((21693, 52), (15004, 52), (21693,))"
      ]
     },
     "execution_count": 36,
     "metadata": {},
     "output_type": "execute_result"
    }
   ],
   "source": [
    "train_x = train.drop(columns=['ID', 'target'])\n",
    "train_y = train['target']\n",
    "test_x = test.drop(columns=['ID'])\n",
    "\n",
    "train_x.shape, test_x.shape, train_y.shape  \n",
    "# <DataFrame'> , <Series'>, <DataFrame'>"
   ]
  },
  {
   "cell_type": "code",
   "execution_count": 37,
   "id": "0f1ca73f",
   "metadata": {},
   "outputs": [],
   "source": [
    "model = RandomForestClassifier(random_state=42)"
   ]
  },
  {
   "cell_type": "code",
   "execution_count": 38,
   "id": "035915d9",
   "metadata": {},
   "outputs": [
    {
     "name": "stdout",
     "output_type": "stream",
     "text": [
      "target unique: [ 0 20  1 19 15  8 16 12 14 18  3  4  5 11 13  6 10  2  9 17  7]\n"
     ]
    }
   ],
   "source": [
    "train_y = df_train['target']\n",
    "print(\"target unique:\", train_y.unique())\n"
   ]
  },
  {
   "cell_type": "code",
   "execution_count": 39,
   "id": "7e3c1401",
   "metadata": {},
   "outputs": [
    {
     "name": "stderr",
     "output_type": "stream",
     "text": [
      "/home/alpaco/anaconda3/envs/soray/lib/python3.10/site-packages/keras/src/layers/convolutional/base_conv.py:113: UserWarning: Do not pass an `input_shape`/`input_dim` argument to a layer. When using Sequential models, prefer using an `Input(shape)` object as the first layer in the model instead.\n",
      "  super().__init__(activity_regularizer=activity_regularizer, **kwargs)\n"
     ]
    },
    {
     "data": {
      "text/html": [
       "<pre style=\"white-space:pre;overflow-x:auto;line-height:normal;font-family:Menlo,'DejaVu Sans Mono',consolas,'Courier New',monospace\"><span style=\"font-weight: bold\">Model: \"sequential_1\"</span>\n",
       "</pre>\n"
      ],
      "text/plain": [
       "\u001b[1mModel: \"sequential_1\"\u001b[0m\n"
      ]
     },
     "metadata": {},
     "output_type": "display_data"
    },
    {
     "data": {
      "text/html": [
       "<pre style=\"white-space:pre;overflow-x:auto;line-height:normal;font-family:Menlo,'DejaVu Sans Mono',consolas,'Courier New',monospace\">┏━━━━━━━━━━━━━━━━━━━━━━━━━━━━━━━━━┳━━━━━━━━━━━━━━━━━━━━━━━━┳━━━━━━━━━━━━━━━┓\n",
       "┃<span style=\"font-weight: bold\"> Layer (type)                    </span>┃<span style=\"font-weight: bold\"> Output Shape           </span>┃<span style=\"font-weight: bold\">       Param # </span>┃\n",
       "┡━━━━━━━━━━━━━━━━━━━━━━━━━━━━━━━━━╇━━━━━━━━━━━━━━━━━━━━━━━━╇━━━━━━━━━━━━━━━┩\n",
       "│ conv1d_3 (<span style=\"color: #0087ff; text-decoration-color: #0087ff\">Conv1D</span>)               │ (<span style=\"color: #00d7ff; text-decoration-color: #00d7ff\">None</span>, <span style=\"color: #00af00; text-decoration-color: #00af00\">187</span>, <span style=\"color: #00af00; text-decoration-color: #00af00\">64</span>)        │           <span style=\"color: #00af00; text-decoration-color: #00af00\">448</span> │\n",
       "├─────────────────────────────────┼────────────────────────┼───────────────┤\n",
       "│ batch_normalization_3           │ (<span style=\"color: #00d7ff; text-decoration-color: #00d7ff\">None</span>, <span style=\"color: #00af00; text-decoration-color: #00af00\">187</span>, <span style=\"color: #00af00; text-decoration-color: #00af00\">64</span>)        │           <span style=\"color: #00af00; text-decoration-color: #00af00\">256</span> │\n",
       "│ (<span style=\"color: #0087ff; text-decoration-color: #0087ff\">BatchNormalization</span>)            │                        │               │\n",
       "├─────────────────────────────────┼────────────────────────┼───────────────┤\n",
       "│ max_pooling1d_3 (<span style=\"color: #0087ff; text-decoration-color: #0087ff\">MaxPooling1D</span>)  │ (<span style=\"color: #00d7ff; text-decoration-color: #00d7ff\">None</span>, <span style=\"color: #00af00; text-decoration-color: #00af00\">94</span>, <span style=\"color: #00af00; text-decoration-color: #00af00\">64</span>)         │             <span style=\"color: #00af00; text-decoration-color: #00af00\">0</span> │\n",
       "├─────────────────────────────────┼────────────────────────┼───────────────┤\n",
       "│ conv1d_4 (<span style=\"color: #0087ff; text-decoration-color: #0087ff\">Conv1D</span>)               │ (<span style=\"color: #00d7ff; text-decoration-color: #00d7ff\">None</span>, <span style=\"color: #00af00; text-decoration-color: #00af00\">94</span>, <span style=\"color: #00af00; text-decoration-color: #00af00\">64</span>)         │        <span style=\"color: #00af00; text-decoration-color: #00af00\">24,640</span> │\n",
       "├─────────────────────────────────┼────────────────────────┼───────────────┤\n",
       "│ batch_normalization_4           │ (<span style=\"color: #00d7ff; text-decoration-color: #00d7ff\">None</span>, <span style=\"color: #00af00; text-decoration-color: #00af00\">94</span>, <span style=\"color: #00af00; text-decoration-color: #00af00\">64</span>)         │           <span style=\"color: #00af00; text-decoration-color: #00af00\">256</span> │\n",
       "│ (<span style=\"color: #0087ff; text-decoration-color: #0087ff\">BatchNormalization</span>)            │                        │               │\n",
       "├─────────────────────────────────┼────────────────────────┼───────────────┤\n",
       "│ max_pooling1d_4 (<span style=\"color: #0087ff; text-decoration-color: #0087ff\">MaxPooling1D</span>)  │ (<span style=\"color: #00d7ff; text-decoration-color: #00d7ff\">None</span>, <span style=\"color: #00af00; text-decoration-color: #00af00\">47</span>, <span style=\"color: #00af00; text-decoration-color: #00af00\">64</span>)         │             <span style=\"color: #00af00; text-decoration-color: #00af00\">0</span> │\n",
       "├─────────────────────────────────┼────────────────────────┼───────────────┤\n",
       "│ conv1d_5 (<span style=\"color: #0087ff; text-decoration-color: #0087ff\">Conv1D</span>)               │ (<span style=\"color: #00d7ff; text-decoration-color: #00d7ff\">None</span>, <span style=\"color: #00af00; text-decoration-color: #00af00\">47</span>, <span style=\"color: #00af00; text-decoration-color: #00af00\">64</span>)         │        <span style=\"color: #00af00; text-decoration-color: #00af00\">24,640</span> │\n",
       "├─────────────────────────────────┼────────────────────────┼───────────────┤\n",
       "│ batch_normalization_5           │ (<span style=\"color: #00d7ff; text-decoration-color: #00d7ff\">None</span>, <span style=\"color: #00af00; text-decoration-color: #00af00\">47</span>, <span style=\"color: #00af00; text-decoration-color: #00af00\">64</span>)         │           <span style=\"color: #00af00; text-decoration-color: #00af00\">256</span> │\n",
       "│ (<span style=\"color: #0087ff; text-decoration-color: #0087ff\">BatchNormalization</span>)            │                        │               │\n",
       "├─────────────────────────────────┼────────────────────────┼───────────────┤\n",
       "│ max_pooling1d_5 (<span style=\"color: #0087ff; text-decoration-color: #0087ff\">MaxPooling1D</span>)  │ (<span style=\"color: #00d7ff; text-decoration-color: #00d7ff\">None</span>, <span style=\"color: #00af00; text-decoration-color: #00af00\">24</span>, <span style=\"color: #00af00; text-decoration-color: #00af00\">64</span>)         │             <span style=\"color: #00af00; text-decoration-color: #00af00\">0</span> │\n",
       "├─────────────────────────────────┼────────────────────────┼───────────────┤\n",
       "│ flatten_1 (<span style=\"color: #0087ff; text-decoration-color: #0087ff\">Flatten</span>)             │ (<span style=\"color: #00d7ff; text-decoration-color: #00d7ff\">None</span>, <span style=\"color: #00af00; text-decoration-color: #00af00\">1536</span>)           │             <span style=\"color: #00af00; text-decoration-color: #00af00\">0</span> │\n",
       "├─────────────────────────────────┼────────────────────────┼───────────────┤\n",
       "│ dense_3 (<span style=\"color: #0087ff; text-decoration-color: #0087ff\">Dense</span>)                 │ (<span style=\"color: #00d7ff; text-decoration-color: #00d7ff\">None</span>, <span style=\"color: #00af00; text-decoration-color: #00af00\">64</span>)             │        <span style=\"color: #00af00; text-decoration-color: #00af00\">98,368</span> │\n",
       "├─────────────────────────────────┼────────────────────────┼───────────────┤\n",
       "│ dense_4 (<span style=\"color: #0087ff; text-decoration-color: #0087ff\">Dense</span>)                 │ (<span style=\"color: #00d7ff; text-decoration-color: #00d7ff\">None</span>, <span style=\"color: #00af00; text-decoration-color: #00af00\">64</span>)             │         <span style=\"color: #00af00; text-decoration-color: #00af00\">4,160</span> │\n",
       "├─────────────────────────────────┼────────────────────────┼───────────────┤\n",
       "│ dense_5 (<span style=\"color: #0087ff; text-decoration-color: #0087ff\">Dense</span>)                 │ (<span style=\"color: #00d7ff; text-decoration-color: #00d7ff\">None</span>, <span style=\"color: #00af00; text-decoration-color: #00af00\">5</span>)              │           <span style=\"color: #00af00; text-decoration-color: #00af00\">325</span> │\n",
       "└─────────────────────────────────┴────────────────────────┴───────────────┘\n",
       "</pre>\n"
      ],
      "text/plain": [
       "┏━━━━━━━━━━━━━━━━━━━━━━━━━━━━━━━━━┳━━━━━━━━━━━━━━━━━━━━━━━━┳━━━━━━━━━━━━━━━┓\n",
       "┃\u001b[1m \u001b[0m\u001b[1mLayer (type)                   \u001b[0m\u001b[1m \u001b[0m┃\u001b[1m \u001b[0m\u001b[1mOutput Shape          \u001b[0m\u001b[1m \u001b[0m┃\u001b[1m \u001b[0m\u001b[1m      Param #\u001b[0m\u001b[1m \u001b[0m┃\n",
       "┡━━━━━━━━━━━━━━━━━━━━━━━━━━━━━━━━━╇━━━━━━━━━━━━━━━━━━━━━━━━╇━━━━━━━━━━━━━━━┩\n",
       "│ conv1d_3 (\u001b[38;5;33mConv1D\u001b[0m)               │ (\u001b[38;5;45mNone\u001b[0m, \u001b[38;5;34m187\u001b[0m, \u001b[38;5;34m64\u001b[0m)        │           \u001b[38;5;34m448\u001b[0m │\n",
       "├─────────────────────────────────┼────────────────────────┼───────────────┤\n",
       "│ batch_normalization_3           │ (\u001b[38;5;45mNone\u001b[0m, \u001b[38;5;34m187\u001b[0m, \u001b[38;5;34m64\u001b[0m)        │           \u001b[38;5;34m256\u001b[0m │\n",
       "│ (\u001b[38;5;33mBatchNormalization\u001b[0m)            │                        │               │\n",
       "├─────────────────────────────────┼────────────────────────┼───────────────┤\n",
       "│ max_pooling1d_3 (\u001b[38;5;33mMaxPooling1D\u001b[0m)  │ (\u001b[38;5;45mNone\u001b[0m, \u001b[38;5;34m94\u001b[0m, \u001b[38;5;34m64\u001b[0m)         │             \u001b[38;5;34m0\u001b[0m │\n",
       "├─────────────────────────────────┼────────────────────────┼───────────────┤\n",
       "│ conv1d_4 (\u001b[38;5;33mConv1D\u001b[0m)               │ (\u001b[38;5;45mNone\u001b[0m, \u001b[38;5;34m94\u001b[0m, \u001b[38;5;34m64\u001b[0m)         │        \u001b[38;5;34m24,640\u001b[0m │\n",
       "├─────────────────────────────────┼────────────────────────┼───────────────┤\n",
       "│ batch_normalization_4           │ (\u001b[38;5;45mNone\u001b[0m, \u001b[38;5;34m94\u001b[0m, \u001b[38;5;34m64\u001b[0m)         │           \u001b[38;5;34m256\u001b[0m │\n",
       "│ (\u001b[38;5;33mBatchNormalization\u001b[0m)            │                        │               │\n",
       "├─────────────────────────────────┼────────────────────────┼───────────────┤\n",
       "│ max_pooling1d_4 (\u001b[38;5;33mMaxPooling1D\u001b[0m)  │ (\u001b[38;5;45mNone\u001b[0m, \u001b[38;5;34m47\u001b[0m, \u001b[38;5;34m64\u001b[0m)         │             \u001b[38;5;34m0\u001b[0m │\n",
       "├─────────────────────────────────┼────────────────────────┼───────────────┤\n",
       "│ conv1d_5 (\u001b[38;5;33mConv1D\u001b[0m)               │ (\u001b[38;5;45mNone\u001b[0m, \u001b[38;5;34m47\u001b[0m, \u001b[38;5;34m64\u001b[0m)         │        \u001b[38;5;34m24,640\u001b[0m │\n",
       "├─────────────────────────────────┼────────────────────────┼───────────────┤\n",
       "│ batch_normalization_5           │ (\u001b[38;5;45mNone\u001b[0m, \u001b[38;5;34m47\u001b[0m, \u001b[38;5;34m64\u001b[0m)         │           \u001b[38;5;34m256\u001b[0m │\n",
       "│ (\u001b[38;5;33mBatchNormalization\u001b[0m)            │                        │               │\n",
       "├─────────────────────────────────┼────────────────────────┼───────────────┤\n",
       "│ max_pooling1d_5 (\u001b[38;5;33mMaxPooling1D\u001b[0m)  │ (\u001b[38;5;45mNone\u001b[0m, \u001b[38;5;34m24\u001b[0m, \u001b[38;5;34m64\u001b[0m)         │             \u001b[38;5;34m0\u001b[0m │\n",
       "├─────────────────────────────────┼────────────────────────┼───────────────┤\n",
       "│ flatten_1 (\u001b[38;5;33mFlatten\u001b[0m)             │ (\u001b[38;5;45mNone\u001b[0m, \u001b[38;5;34m1536\u001b[0m)           │             \u001b[38;5;34m0\u001b[0m │\n",
       "├─────────────────────────────────┼────────────────────────┼───────────────┤\n",
       "│ dense_3 (\u001b[38;5;33mDense\u001b[0m)                 │ (\u001b[38;5;45mNone\u001b[0m, \u001b[38;5;34m64\u001b[0m)             │        \u001b[38;5;34m98,368\u001b[0m │\n",
       "├─────────────────────────────────┼────────────────────────┼───────────────┤\n",
       "│ dense_4 (\u001b[38;5;33mDense\u001b[0m)                 │ (\u001b[38;5;45mNone\u001b[0m, \u001b[38;5;34m64\u001b[0m)             │         \u001b[38;5;34m4,160\u001b[0m │\n",
       "├─────────────────────────────────┼────────────────────────┼───────────────┤\n",
       "│ dense_5 (\u001b[38;5;33mDense\u001b[0m)                 │ (\u001b[38;5;45mNone\u001b[0m, \u001b[38;5;34m5\u001b[0m)              │           \u001b[38;5;34m325\u001b[0m │\n",
       "└─────────────────────────────────┴────────────────────────┴───────────────┘\n"
      ]
     },
     "metadata": {},
     "output_type": "display_data"
    },
    {
     "data": {
      "text/html": [
       "<pre style=\"white-space:pre;overflow-x:auto;line-height:normal;font-family:Menlo,'DejaVu Sans Mono',consolas,'Courier New',monospace\"><span style=\"font-weight: bold\"> Total params: </span><span style=\"color: #00af00; text-decoration-color: #00af00\">153,349</span> (599.02 KB)\n",
       "</pre>\n"
      ],
      "text/plain": [
       "\u001b[1m Total params: \u001b[0m\u001b[38;5;34m153,349\u001b[0m (599.02 KB)\n"
      ]
     },
     "metadata": {},
     "output_type": "display_data"
    },
    {
     "data": {
      "text/html": [
       "<pre style=\"white-space:pre;overflow-x:auto;line-height:normal;font-family:Menlo,'DejaVu Sans Mono',consolas,'Courier New',monospace\"><span style=\"font-weight: bold\"> Trainable params: </span><span style=\"color: #00af00; text-decoration-color: #00af00\">152,965</span> (597.52 KB)\n",
       "</pre>\n"
      ],
      "text/plain": [
       "\u001b[1m Trainable params: \u001b[0m\u001b[38;5;34m152,965\u001b[0m (597.52 KB)\n"
      ]
     },
     "metadata": {},
     "output_type": "display_data"
    },
    {
     "data": {
      "text/html": [
       "<pre style=\"white-space:pre;overflow-x:auto;line-height:normal;font-family:Menlo,'DejaVu Sans Mono',consolas,'Courier New',monospace\"><span style=\"font-weight: bold\"> Non-trainable params: </span><span style=\"color: #00af00; text-decoration-color: #00af00\">384</span> (1.50 KB)\n",
       "</pre>\n"
      ],
      "text/plain": [
       "\u001b[1m Non-trainable params: \u001b[0m\u001b[38;5;34m384\u001b[0m (1.50 KB)\n"
      ]
     },
     "metadata": {},
     "output_type": "display_data"
    }
   ],
   "source": [
    "\n",
    "\n",
    "def build_model():\n",
    "    model = Sequential()\n",
    "    model.add(Conv1D(filters=64, kernel_size=6, activation='relu', \n",
    "                    padding='same', input_shape=(187, 1)))\n",
    "    model.add(BatchNormalization())\n",
    "    \n",
    "    # adding a pooling layer\n",
    "    model.add(MaxPooling1D(pool_size=3, strides=2, padding='same'))\n",
    "    \n",
    "    model.add(Conv1D(filters=64, kernel_size=6, activation='relu', padding='same'))\n",
    "    model.add(BatchNormalization())\n",
    "    model.add(MaxPooling1D(pool_size=3, strides=2, padding='same'))\n",
    "    \n",
    "    model.add(Conv1D(filters=64, kernel_size=6, activation='relu', padding='same'))\n",
    "    model.add(BatchNormalization())\n",
    "    model.add(MaxPooling1D(pool_size=3, strides=2, padding='same'))\n",
    "    \n",
    "    model.add(Flatten())\n",
    "    model.add(Dense(64, activation='relu'))\n",
    "    model.add(Dense(64, activation='relu'))\n",
    "    model.add(Dense(5, activation='softmax'))   # 다중 분류\n",
    "    \n",
    "    model.compile(loss='categorical_crossentropy', optimizer='adam', metrics=['accuracy'])\n",
    "    return model\n",
    "\n",
    "model = build_model()\n",
    "model.summary()"
   ]
  },
  {
   "cell_type": "code",
   "execution_count": 40,
   "id": "4d84267d",
   "metadata": {},
   "outputs": [
    {
     "name": "stdout",
     "output_type": "stream",
     "text": [
      "Validation Accuracy: 0.7711454252131827\n"
     ]
    }
   ],
   "source": [
    "X_train, X_val, y_train, y_val = train_test_split(train_x, train_y, test_size=0.2, random_state=42) \n",
    "classifi = RandomForestClassifier(random_state=42, n_estimators = 300, n_jobs = -1)\n",
    "classifi.fit(X_train, y_train)\n",
    "\n",
    "preds = classifi.predict(X_val)\n",
    "print(\"Validation Accuracy:\", accuracy_score(y_val, preds))"
   ]
  },
  {
   "cell_type": "code",
   "execution_count": 42,
   "id": "7732a9b6",
   "metadata": {},
   "outputs": [
    {
     "name": "stdout",
     "output_type": "stream",
     "text": [
      "Saved: /home/alpaco/sryang/DACON/submission_v1.csv\n"
     ]
    }
   ],
   "source": [
    "pred_test = classifi.predict(test_x)\n",
    "sub = pd.DataFrame({\"ID\": id, \"target\": pred_test})\n",
    "\n",
    "out_path = \"/home/alpaco/sryang/DACON/submission_v1.csv\"\n",
    "sub.to_csv(out_path, index=False)\n",
    "print(f\"Saved: {out_path}\")"
   ]
  },
  {
   "cell_type": "code",
   "execution_count": null,
   "id": "27eadd17",
   "metadata": {},
   "outputs": [],
   "source": []
  }
 ],
 "metadata": {
  "kernelspec": {
   "display_name": "soray",
   "language": "python",
   "name": "python3"
  },
  "language_info": {
   "codemirror_mode": {
    "name": "ipython",
    "version": 3
   },
   "file_extension": ".py",
   "mimetype": "text/x-python",
   "name": "python",
   "nbconvert_exporter": "python",
   "pygments_lexer": "ipython3",
   "version": "3.10.18"
  }
 },
 "nbformat": 4,
 "nbformat_minor": 5
}
